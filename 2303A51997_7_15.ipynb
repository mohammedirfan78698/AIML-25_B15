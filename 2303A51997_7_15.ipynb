{
  "nbformat": 4,
  "nbformat_minor": 0,
  "metadata": {
    "colab": {
      "provenance": [],
      "authorship_tag": "ABX9TyMwANnpoV3WCBgxZao5KjrP",
      "include_colab_link": true
    },
    "kernelspec": {
      "name": "python3",
      "display_name": "Python 3"
    },
    "language_info": {
      "name": "python"
    }
  },
  "cells": [
    {
      "cell_type": "markdown",
      "metadata": {
        "id": "view-in-github",
        "colab_type": "text"
      },
      "source": [
        "<a href=\"https://colab.research.google.com/github/mohammedirfan78698/AIML-25_B15/blob/main/2303A51997_7_15.ipynb\" target=\"_parent\"><img src=\"https://colab.research.google.com/assets/colab-badge.svg\" alt=\"Open In Colab\"/></a>"
      ]
    },
    {
      "cell_type": "code",
      "execution_count": 2,
      "metadata": {
        "colab": {
          "base_uri": "https://localhost:8080/"
        },
        "id": "HK3IIv93JTCn",
        "outputId": "49e005ec-7459-4b77-87c3-5c15a6f7238c"
      },
      "outputs": [
        {
          "output_type": "stream",
          "name": "stdout",
          "text": [
            "Dataset loaded successfully!\n",
            "         Date      Time  S1_Temp  S2_Temp  S3_Temp  S4_Temp  S1_Light  \\\n",
            "0  2017/12/22  10:49:41    24.94    24.75    24.56    25.38       121   \n",
            "1  2017/12/22  10:50:12    24.94    24.75    24.56    25.44       121   \n",
            "2  2017/12/22  10:50:42    25.00    24.75    24.50    25.44       121   \n",
            "3  2017/12/22  10:51:13    25.00    24.75    24.56    25.44       121   \n",
            "4  2017/12/22  10:51:44    25.00    24.75    24.56    25.44       121   \n",
            "\n",
            "   S2_Light  S3_Light  S4_Light  S1_Sound  S2_Sound  S3_Sound  S4_Sound  \\\n",
            "0        34        53        40      0.08      0.19      0.06      0.06   \n",
            "1        33        53        40      0.93      0.05      0.06      0.06   \n",
            "2        34        53        40      0.43      0.11      0.08      0.06   \n",
            "3        34        53        40      0.41      0.10      0.10      0.09   \n",
            "4        34        54        40      0.18      0.06      0.06      0.06   \n",
            "\n",
            "   S5_CO2  S5_CO2_Slope  S6_PIR  S7_PIR  Room_Occupancy_Count  \\\n",
            "0     390      0.769231       0       0                     1   \n",
            "1     390      0.646154       0       0                     1   \n",
            "2     390      0.519231       0       0                     1   \n",
            "3     390      0.388462       0       0                     1   \n",
            "4     390      0.253846       0       0                     1   \n",
            "\n",
            "            Date_Time  \n",
            "0 2017-12-22 10:49:41  \n",
            "1 2017-12-22 10:50:12  \n",
            "2 2017-12-22 10:50:42  \n",
            "3 2017-12-22 10:51:13  \n",
            "4 2017-12-22 10:51:44  \n",
            "Max Sound: 3.84, Min Sound: 0.04\n",
            "Max Light: 280, Min Light: 0\n",
            "Date and Time of Maximum Occupancy: 2017-12-22 12:30:16\n",
            "Temperature most suitable for high occupancy: 26.01°C\n",
            "Suitable CO2 levels: (360, 1270)\n",
            "Not suitable CO2 levels: (345, 1255)\n",
            "Motion sensors contribute to an increase in room occupancy (Correlation: 0.63)\n"
          ]
        }
      ],
      "source": [
        "import pandas as pd\n",
        "\n",
        "# GitHub raw URL for the dataset\n",
        "url = \"https://raw.githubusercontent.com/mohammedirfan78698/AIML-25_B15/main/Occupancy_Estimation%5B1%5D.csv\"\n",
        "\n",
        "try:\n",
        "    # Load the dataset directly from the URL\n",
        "    data = pd.read_csv(url)\n",
        "    print(\"Dataset loaded successfully!\")\n",
        "\n",
        "    # Combine Date and Time into a single column for easier analysis\n",
        "    data['Date_Time'] = pd.to_datetime(data['Date'] + ' ' + data['Time'])\n",
        "    print(data.head())  # Display the first few rows of the dataset\n",
        "except Exception as e:\n",
        "    print(f\"An error occurred: {e}\")\n",
        "\n",
        "# Define high occupancy rows\n",
        "try:\n",
        "    high_occupancy = data[data['Room_Occupancy_Count'] > data['Room_Occupancy_Count'].mean()]\n",
        "except KeyError:\n",
        "    print(\"Ensure the column 'Room_Occupancy_Count' exists in the dataset.\")\n",
        "\n",
        "# Q1: Max and Min sound, light values liked by most customers\n",
        "try:\n",
        "    max_sound = high_occupancy[['S1_Sound', 'S2_Sound', 'S3_Sound', 'S4_Sound']].max().max()\n",
        "    min_sound = high_occupancy[['S1_Sound', 'S2_Sound', 'S3_Sound', 'S4_Sound']].min().min()\n",
        "    max_light = high_occupancy[['S1_Light', 'S2_Light', 'S3_Light', 'S4_Light']].max().max()\n",
        "    min_light = high_occupancy[['S1_Light', 'S2_Light', 'S3_Light', 'S4_Light']].min().min()\n",
        "\n",
        "    print(f\"Max Sound: {max_sound}, Min Sound: {min_sound}\")\n",
        "    print(f\"Max Light: {max_light}, Min Light: {min_light}\")\n",
        "except KeyError:\n",
        "    print(\"Ensure column names 'S1_Sound', 'S1_Light', etc., exist in the dataset.\")\n",
        "\n",
        "# Q2: Date and time when room occupancy was the most\n",
        "try:\n",
        "    max_occupancy_row = data.loc[data['Room_Occupancy_Count'].idxmax()]\n",
        "    date_time = max_occupancy_row['Date_Time']\n",
        "    print(f\"Date and Time of Maximum Occupancy: {date_time}\")\n",
        "except KeyError:\n",
        "    print(\"Ensure the column 'Date_Time' exists in the dataset.\")\n",
        "\n",
        "# Q3: Predict temperature most suitable for most room occupancy\n",
        "try:\n",
        "    suitable_temp = high_occupancy[['S1_Temp', 'S2_Temp', 'S3_Temp', 'S4_Temp']].mean().mean()\n",
        "    print(f\"Temperature most suitable for high occupancy: {suitable_temp:.2f}°C\")\n",
        "except KeyError:\n",
        "    print(\"Ensure temperature columns 'S1_Temp', etc., exist in the dataset.\")\n",
        "\n",
        "# Q4: Suitable and not suitable CO2 levels\n",
        "try:\n",
        "    suitable_co2 = (high_occupancy['S5_CO2'].min(), high_occupancy['S5_CO2'].max())\n",
        "    not_suitable_co2 = (\n",
        "        data[data['Room_Occupancy_Count'] <= data['Room_Occupancy_Count'].mean()]['S5_CO2'].min(),\n",
        "        data[data['Room_Occupancy_Count'] <= data['Room_Occupancy_Count'].mean()]['S5_CO2'].max()\n",
        "    )\n",
        "    print(f\"Suitable CO2 levels: {suitable_co2}\")\n",
        "    print(f\"Not suitable CO2 levels: {not_suitable_co2}\")\n",
        "except KeyError:\n",
        "    print(\"Ensure the column 'S5_CO2' exists in the dataset.\")\n",
        "\n",
        "# Q5: Contribution of motion sensors to room occupancy\n",
        "try:\n",
        "    correlation = data['S6_PIR'].corr(data['Room_Occupancy_Count'])\n",
        "    if correlation > 0:\n",
        "        print(f\"Motion sensors contribute to an increase in room occupancy (Correlation: {correlation:.2f})\")\n",
        "    else:\n",
        "        print(f\"Motion sensors contribute to a decrease in room occupancy (Correlation: {correlation:.2f})\")\n",
        "except KeyError:\n",
        "    print(\"Ensure the column 'S6_PIR' exists in the dataset.\")\n"
      ]
    }
  ]
}