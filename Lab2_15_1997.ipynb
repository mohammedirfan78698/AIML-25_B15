{
  "nbformat": 4,
  "nbformat_minor": 0,
  "metadata": {
    "colab": {
      "provenance": [],
      "authorship_tag": "ABX9TyN97CMENIIGHwypBc1jwtgb",
      "include_colab_link": true
    },
    "kernelspec": {
      "name": "python3",
      "display_name": "Python 3"
    },
    "language_info": {
      "name": "python"
    }
  },
  "cells": [
    {
      "cell_type": "markdown",
      "metadata": {
        "id": "view-in-github",
        "colab_type": "text"
      },
      "source": [
        "<a href=\"https://colab.research.google.com/github/mohammedirfan78698/AIML-25_B15/blob/main/Lab2_15_1997.ipynb\" target=\"_parent\"><img src=\"https://colab.research.google.com/assets/colab-badge.svg\" alt=\"Open In Colab\"/></a>"
      ]
    },
    {
      "cell_type": "code",
      "execution_count": 38,
      "metadata": {
        "colab": {
          "base_uri": "https://localhost:8080/"
        },
        "id": "WyP-hhbMj4b9",
        "outputId": "f1f52f13-97c1-44df-e2c8-71b27975083d"
      },
      "outputs": [
        {
          "output_type": "stream",
          "name": "stdout",
          "text": [
            "[[85 78 92]\n",
            " [70 88 84]\n",
            " [90 95 94]\n",
            " [60 65 70]\n",
            " [82 79 85]]\n"
          ]
        }
      ],
      "source": [
        "import numpy as np\n",
        "marks = np.array([[85, 78, 92],[70, 88, 84],[90, 95, 94],[60, 65, 70],[82, 79, 85]])\n",
        "print(marks)\n"
      ]
    },
    {
      "cell_type": "code",
      "source": [
        "average_marks = np.mean(marks)\n",
        "print(average_marks)\n",
        "min_marks = np.min(marks)\n",
        "print(min_marks)\n",
        "max_marks = np.max(marks)\n",
        "print(max_marks)"
      ],
      "metadata": {
        "colab": {
          "base_uri": "https://localhost:8080/"
        },
        "id": "xPKdSowqtiCQ",
        "outputId": "723529d5-7622-4a89-e5d3-902a1fb710ad"
      },
      "execution_count": 39,
      "outputs": [
        {
          "output_type": "stream",
          "name": "stdout",
          "text": [
            "81.13333333333334\n",
            "60\n",
            "95\n"
          ]
        }
      ]
    },
    {
      "cell_type": "code",
      "source": [
        "specific_students = marks[[0, 2]]\n",
        "print(specific_students)"
      ],
      "metadata": {
        "colab": {
          "base_uri": "https://localhost:8080/"
        },
        "id": "BX9ZlQ95tyg6",
        "outputId": "3b73074b-7695-4290-f8a1-c4a801d8109c"
      },
      "execution_count": 40,
      "outputs": [
        {
          "output_type": "stream",
          "name": "stdout",
          "text": [
            "[[85 78 92]\n",
            " [90 95 94]]\n"
          ]
        }
      ]
    },
    {
      "cell_type": "code",
      "source": [
        "print(\"Marks above 80:\",marks[marks > 80])\n"
      ],
      "metadata": {
        "colab": {
          "base_uri": "https://localhost:8080/"
        },
        "id": "PS0J0pNuuXth",
        "outputId": "be6ea107-f346-4385-b107-bf6d70a37a81"
      },
      "execution_count": 41,
      "outputs": [
        {
          "output_type": "stream",
          "name": "stdout",
          "text": [
            "Marks above 80: [85 92 88 84 90 95 94 82 85]\n"
          ]
        }
      ]
    },
    {
      "cell_type": "code",
      "source": [
        "subject=marks.T\n",
        "print(subject)"
      ],
      "metadata": {
        "colab": {
          "base_uri": "https://localhost:8080/"
        },
        "id": "3tV4w7Sw7l-Z",
        "outputId": "ec3c33ac-1aaa-4eee-d5fd-ae108c5a0efc"
      },
      "execution_count": 42,
      "outputs": [
        {
          "output_type": "stream",
          "name": "stdout",
          "text": [
            "[[85 70 90 60 82]\n",
            " [78 88 95 65 79]\n",
            " [92 84 94 70 85]]\n"
          ]
        }
      ]
    }
  ]
}