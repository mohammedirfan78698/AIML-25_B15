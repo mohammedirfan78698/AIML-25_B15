{
  "nbformat": 4,
  "nbformat_minor": 0,
  "metadata": {
    "colab": {
      "provenance": [],
      "authorship_tag": "ABX9TyN1DDUAZtsURUTyinPqeiV/",
      "include_colab_link": true
    },
    "kernelspec": {
      "name": "python3",
      "display_name": "Python 3"
    },
    "language_info": {
      "name": "python"
    }
  },
  "cells": [
    {
      "cell_type": "markdown",
      "metadata": {
        "id": "view-in-github",
        "colab_type": "text"
      },
      "source": [
        "<a href=\"https://colab.research.google.com/github/mohammedirfan78698/AIML-25_B15/blob/main/2303A51997_7_15.ipynb\" target=\"_parent\"><img src=\"https://colab.research.google.com/assets/colab-badge.svg\" alt=\"Open In Colab\"/></a>"
      ]
    },
    {
      "cell_type": "code",
      "execution_count": 4,
      "metadata": {
        "colab": {
          "base_uri": "https://localhost:8080/"
        },
        "id": "HK3IIv93JTCn",
        "outputId": "5b727dc3-8f26-4a1d-ee3a-bfb655fa9dc0"
      },
      "outputs": [
        {
          "output_type": "stream",
          "name": "stdout",
          "text": [
            "Max Sound: 3.84, Min Sound: 0.04\n",
            "Max Light: 280, Min Light: 0\n",
            "Date and Time of Maximum Occupancy: 2017-12-22 12:30:16\n",
            "Temperature most suitable for high occupancy: 26.01°C\n",
            "Suitable CO2 levels: (360, 1270)\n",
            "Not suitable CO2 levels: (345, 1255)\n",
            "Motion sensors contribute to an increase in room occupancy (Correlation: 0.63)\n"
          ]
        }
      ],
      "source": [
        "import pandas as pd\n",
        "\n",
        "url = \"https://raw.githubusercontent.com/mohammedirfan78698/AIML-25_B15/main/Occupancy_Estimation%5B1%5D.csv\"\n",
        "\n",
        "data = pd.read_csv(url)\n",
        "data['Date_Time'] = pd.to_datetime(data['Date'] + ' ' + data['Time'])\n",
        "\n",
        "high_occupancy = data[data['Room_Occupancy_Count'] > data['Room_Occupancy_Count'].mean()]\n",
        "\n",
        "max_sound = high_occupancy[['S1_Sound', 'S2_Sound', 'S3_Sound', 'S4_Sound']].max().max()\n",
        "min_sound = high_occupancy[['S1_Sound', 'S2_Sound', 'S3_Sound', 'S4_Sound']].min().min()\n",
        "max_light = high_occupancy[['S1_Light', 'S2_Light', 'S3_Light', 'S4_Light']].max().max()\n",
        "min_light = high_occupancy[['S1_Light', 'S2_Light', 'S3_Light', 'S4_Light']].min().min()\n",
        "print(f\"Max Sound: {max_sound}, Min Sound: {min_sound}\")\n",
        "print(f\"Max Light: {max_light}, Min Light: {min_light}\")\n",
        "\n",
        "max_occupancy_row = data.loc[data['Room_Occupancy_Count'].idxmax()]\n",
        "print(f\"Date and Time of Maximum Occupancy: {max_occupancy_row['Date_Time']}\")\n",
        "\n",
        "suitable_temp = high_occupancy[['S1_Temp', 'S2_Temp', 'S3_Temp', 'S4_Temp']].mean().mean()\n",
        "print(f\"Temperature most suitable for high occupancy: {suitable_temp:.2f}°C\")\n",
        "\n",
        "suitable_co2 = (high_occupancy['S5_CO2'].min(), high_occupancy['S5_CO2'].max())\n",
        "not_suitable_co2 = (\n",
        "    data[data['Room_Occupancy_Count'] <= data['Room_Occupancy_Count'].mean()]['S5_CO2'].min(),\n",
        "    data[data['Room_Occupancy_Count'] <= data['Room_Occupancy_Count'].mean()]['S5_CO2'].max()\n",
        ")\n",
        "print(f\"Suitable CO2 levels: {suitable_co2}\")\n",
        "print(f\"Not suitable CO2 levels: {not_suitable_co2}\")\n",
        "\n",
        "correlation = data['S6_PIR'].corr(data['Room_Occupancy_Count'])\n",
        "if correlation > 0:\n",
        "    print(f\"Motion sensors contribute to an increase in room occupancy (Correlation: {correlation:.2f})\")\n",
        "else:\n",
        "    print(f\"Motion sensors contribute to a decrease in room occupancy (Correlation: {correlation:.2f})\")\n"
      ]
    }
  ]
}